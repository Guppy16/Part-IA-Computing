{
  "cells": [
    {
      "metadata": {},
      "cell_type": "markdown",
      "source": "## Exercise 12.1\n\nCreate a class to represent vectors of arbitrary length and which is initialised with a list of values, e.g.:\n```python\nx = MyVector([0, 2, 4])\n```\n\nEquip the class with methods that:\n\n1. Return the length of the vector (use name `size`)\n2. Compute the norm of the vector $\\sqrt{x \\cdot x}$ (use name `norm`)\n3. Compute the dot product of the vector with another vector (use name `dot`)\n\nTest your implementation using two vectors of length 3. To help you get started, a skeleton of the class is provided below. Don't forget to use `self` where necessary."
    },
    {
      "metadata": {
        "trusted": true
      },
      "cell_type": "code",
      "source": "class MyVector:\n    \"\"\"A vector object that can return its size and norm, and can compute the dot product \n    with another vector  \"\"\"\n    \n    def __init__(self, x):\n        self.x = x\n        \n    # Return length of vector\n    def size(self):\n        # Add your code here\n        pass  # This can be removed once the body is added\n    \n    # This allows access by index, e.g. y[2]\n    def __getitem__(self, index):\n        return self.x[index]\n\n    # Return norm of vector\n    def norm(self):\n        # Add your code here\n        pass  # This can be removed once the body is added\n    \n    # Return dot product of vector with another vector\n    def dot(self, other):\n        # Add your code here\n        pass  # This can be removed once the body is added",
      "execution_count": 1,
      "outputs": []
    },
    {
      "metadata": {},
      "cell_type": "markdown",
      "source": "### Solution"
    },
    {
      "metadata": {
        "deletable": false,
        "nbgrader": {
          "cell_type": "code",
          "checksum": "713c9493be9ec9fc9aca8f6f8f39c121",
          "grade": false,
          "grade_id": "cell-ff4d6cba19bb1b8e",
          "locked": false,
          "schema_version": 3,
          "solution": true
        },
        "trusted": true
      },
      "cell_type": "code",
      "source": "import math  # Use this to get the sqrt\n\nclass MyVector:\n    \"\"\"A vector object that can return its size and norm, and can compute the dot product \n    with another vector  \"\"\"\n\n    def __init__(self, x):\n        self.x = x\n        \n    # Return length of vector\n    def size(self):\n        return len(self.x)\n    \n    # This allows access by index, e.g. y[2]\n    def __getitem__(self, index):\n        return self.x[index]\n    \n    # Return dot product of vector with another vector\n    def dot(self, other):\n        if other.size() != self.size():\n            raise ValueError(\"Size of elements are not the same\")\n        tot = 0\n        for i in range(self.size()):\n            tot += self.x[i] * other.x[i]\n        return tot\n    \n    # Return norm of vector\n    def norm(self):\n        return math.sqrt(self.dot(self))\n\n    ",
      "execution_count": 2,
      "outputs": []
    },
    {
      "metadata": {
        "deletable": false,
        "editable": false,
        "nbgrader": {
          "cell_type": "code",
          "checksum": "1ed85d56501ddc8dc87d5784a25a3580",
          "grade": true,
          "grade_id": "cell-b601b5cc8cf8ab44",
          "locked": true,
          "points": 0,
          "schema_version": 3,
          "solution": false
        },
        "trusted": true
      },
      "cell_type": "code",
      "source": "# Create two vectors\nu = MyVector([1, 1, 2])\nv = MyVector([2, 1, 1])\n\nassert u.size() == 3\nassert round(u.norm() - 2.449489742783178) == 0.0\nassert round(u.dot(v) - 5.0, 10) == 0.0 ",
      "execution_count": 3,
      "outputs": []
    },
    {
      "metadata": {
        "deletable": false,
        "editable": false,
        "nbgrader": {
          "cell_type": "markdown",
          "checksum": "5da545895b150f78744a35c41d6eb9f4",
          "grade": false,
          "grade_id": "cell-d743191a516ffa05",
          "locked": true,
          "schema_version": 3,
          "solution": false
        }
      },
      "cell_type": "markdown",
      "source": "## Exercise 12.2\n\n1. Create a class for holding a student record entry. It should have the following attributes:\n   - Surname\n   - Forename\n   - Birth year\n   - Tripos year\n   - College\n   - CRSid (optional field)\n1. Equip your class with the method '`age`' that returns the age of the student in whole years\n1. Equip your class with the method '`__repr__`' such using `print` on a student record displays with the format\n\n       Surname: Bloggs, Forename: Andrea, College: Churchill\n\n1. Equip your class with the method `__lt__(self, other)` so that a list of record entries can be sorted by \n   (surname, forename) using the Python built-in sort function. \n   \n   Create a list of entries and test the sorting. Make sure you have two entries with the same\n   surname.\n\n> Recall that the methods starting with `__`, e.g. `__lt__` and `__repr__`, should **not** be called directly. \n> Python with map them to other operations, e.g. `__repr__` is called when using `print`, and `__lt__` is called \n> when using `<`. These functions must have a return value.\n\n*Hint:* To get the current year:"
    },
    {
      "metadata": {
        "trusted": true
      },
      "cell_type": "code",
      "source": "import datetime\nyear = datetime.date.today().year\nprint(year)",
      "execution_count": 4,
      "outputs": [
        {
          "output_type": "stream",
          "text": "2019\n",
          "name": "stdout"
        }
      ]
    },
    {
      "metadata": {},
      "cell_type": "markdown",
      "source": "### Solution"
    },
    {
      "metadata": {
        "deletable": false,
        "nbgrader": {
          "cell_type": "code",
          "checksum": "254313b9c258e03732f4a60e5dee0b78",
          "grade": false,
          "grade_id": "cell-6e857f6089fe0ba8",
          "locked": false,
          "schema_version": 3,
          "solution": true
        },
        "trusted": true
      },
      "cell_type": "code",
      "source": "import datetime \nclass StudentEntry:\n    def __init__(self, surname, forename, birth_year, year, college, crsid=None):\n        self.surname = surname\n        self.forename = forename\n        self.birth_year = birth_year\n        self.year = year\n        self.college = college\n        self.crsid = crsid\n\n    # Get the age\n    def age(self):\n        \"Return the age in whole years\"\n        return datetime.date.today().year - self.birth_year\n    \n    # Override print function\n    def __repr__(self):\n        \"Print with format: Surname: Bloggs, Forename: Andrea, College: Churchill\"\n        return \"Surname: {}, Forename: {}, College: {}\".format(self.surname, self.forename, self.college)\n    \n    # Override < method for sorting\n    def __lt__(self, other):\n        \"Sorts based on (surname, forename)\"\n        if self.surname < other.surname:\n            return True\n        elif self.surname == other.surname and self.forename < other.forename:\n            return True\n        else:\n            return False",
      "execution_count": 5,
      "outputs": []
    },
    {
      "metadata": {
        "deletable": false,
        "editable": false,
        "nbgrader": {
          "cell_type": "code",
          "checksum": "d60f32b3e00d631930ecf9478a0336bb",
          "grade": true,
          "grade_id": "cell-ce8aafb3e627dd86",
          "locked": true,
          "points": 0,
          "schema_version": 3,
          "solution": false
        },
        "trusted": true
      },
      "cell_type": "code",
      "source": "s0 = StudentEntry(\"Bloggs\", \"Andrea\", 1996, 1, \"Churchill\", \"ab1001\")       \ns1 = StudentEntry(\"Reali\", \"John\", 1997, 1, \"Corpus Christi\")       \ns2 = StudentEntry(\"Bacon\", \"Kevin\", 1996, 1, \"Newnham\")\ns3 = StudentEntry(\"Bacon\", \"Alexander\", 1996, 1, \"Queens\")\n\nassert s0 < s1\nassert s0 > s2\nassert s3 < s2\nassert s0.age() ==  datetime.date.today().year - 1996 \nassert s1.age() ==  datetime.date.today().year - 1997\nassert str(s1) == \"Surname: Reali, Forename: John, College: Corpus Christi\"\n\n# Test sorting\ns = [s0, s1, s2, s3]\ns.sort()\nfor earlier, later in zip(s, s[1:]):\n    assert earlier.surname <= later.surname\n    if earlier.surname == later.surname:\n        assert earlier.forename <= later.forename",
      "execution_count": 6,
      "outputs": []
    },
    {
      "metadata": {
        "trusted": true
      },
      "cell_type": "code",
      "source": "!ls /dev/tty*",
      "execution_count": 7,
      "outputs": [
        {
          "output_type": "stream",
          "text": "/dev/tty\r\n",
          "name": "stdout"
        }
      ]
    },
    {
      "metadata": {
        "trusted": true
      },
      "cell_type": "code",
      "source": "",
      "execution_count": null,
      "outputs": []
    }
  ],
  "metadata": {
    "kernelspec": {
      "name": "python3",
      "display_name": "Python 3",
      "language": "python"
    },
    "language_info": {
      "mimetype": "text/x-python",
      "nbconvert_exporter": "python",
      "name": "python",
      "file_extension": ".py",
      "version": "3.5.4",
      "pygments_lexer": "ipython3",
      "codemirror_mode": {
        "version": 3,
        "name": "ipython"
      }
    }
  },
  "nbformat": 4,
  "nbformat_minor": 4
}