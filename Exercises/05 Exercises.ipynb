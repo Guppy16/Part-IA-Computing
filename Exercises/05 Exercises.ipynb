{
  "cells": [
    {
      "metadata": {
        "deletable": false,
        "editable": false,
        "nbgrader": {
          "cell_type": "markdown",
          "checksum": "78bec42b97a384da1258851020c6e40a",
          "grade": false,
          "grade_id": "cell-430d835796356075",
          "locked": true,
          "schema_version": 3,
          "solution": false
        }
      },
      "cell_type": "markdown",
      "source": "## Exercise 05.1 (random numbers)\n\n- Using the '`randint`' function from the '`random`' module (https://docs.python.org/3/library/random.html#random.randint), \n  develop a function `dice_roll` that emulates the roll of a dice with $n$ sides.\n\n- For $n=6$, devise and implement a test to check that it is a fair dice."
    },
    {
      "metadata": {
        "deletable": false,
        "editable": false,
        "nbgrader": {
          "cell_type": "markdown",
          "checksum": "61e2a56d004d8d8ae67a9fcdfd923411",
          "grade": false,
          "grade_id": "cell-12092bd5f2adea76",
          "locked": true,
          "schema_version": 3,
          "solution": false
        }
      },
      "cell_type": "markdown",
      "source": "#### (a) Dice roll code:"
    },
    {
      "metadata": {
        "deletable": false,
        "nbgrader": {
          "cell_type": "code",
          "checksum": "4bf12682ccd10675634d0e03f8d9e03f",
          "grade": false,
          "grade_id": "cell-70a83466894475ee",
          "locked": false,
          "schema_version": 3,
          "solution": true
        },
        "trusted": true
      },
      "cell_type": "code",
      "source": "import random\n\n# YOUR CODE HERE\ndef dice_roll(n):\n    \"Emulates roll of dice\"\n    return random.randint(1,n)",
      "execution_count": 14,
      "outputs": []
    },
    {
      "metadata": {
        "deletable": false,
        "editable": false,
        "nbgrader": {
          "cell_type": "code",
          "checksum": "cc96b22a27a50764737999a68f55cee7",
          "grade": true,
          "grade_id": "cell-0970743b0c035f78",
          "locked": true,
          "points": 0,
          "schema_version": 3,
          "solution": false
        },
        "trusted": true
      },
      "cell_type": "code",
      "source": "for n in range(1, 20):\n    for j in range(100):\n        value = dice_roll(n) \n        assert value >= 1 and value <= n",
      "execution_count": 15,
      "outputs": []
    },
    {
      "metadata": {
        "deletable": false,
        "editable": false,
        "nbgrader": {
          "cell_type": "markdown",
          "checksum": "d5b750f62a69a71bfde95d5766edb830",
          "grade": false,
          "grade_id": "cell-8fd8c957cbce8e91",
          "locked": true,
          "schema_version": 3,
          "solution": false
        }
      },
      "cell_type": "markdown",
      "source": "#### (b) Test for fairness"
    },
    {
      "metadata": {},
      "cell_type": "markdown",
      "source": "Test dice for $n = 6$, for $k$ number of tests\n\nIncrement counters for the frequency $f_i$\n\nCalculate the standard deviation of the values $\\frac{f_i}{k}$\n\nCompare it against the uniform distribution ${Var}_{actual} = \\frac{b^2 - 1}{12}$ with $b = 6$\n\nNPTE: SD comparison doesn't seem to be working, so it may be better to use E(x)?\n"
    },
    {
      "metadata": {
        "deletable": false,
        "nbgrader": {
          "cell_type": "code",
          "checksum": "3efa13bd797422d747fe0f35cd3668d5",
          "grade": true,
          "grade_id": "cell-0826760c62c21bff",
          "locked": false,
          "points": 0,
          "schema_version": 3,
          "solution": true
        },
        "trusted": true
      },
      "cell_type": "code",
      "source": "import numpy as np\n\n# YOUR CODE HERE\nk = 1000000\nn = 6\nfreq = np.zeros([n,1])\n\nfor i in range(k):\n    index = dice_roll(n) - 1 # get 0 -indexing\n    freq[index] += 1\n\nfreq /= k    \n\nprint(freq)\nprint(\"SD Observed {}\".format(np.std(freq))) #Calculate standard deviation as a measure of error\nprint(\"SD Actual {}\".format(np.sqrt((35/12))))",
      "execution_count": 24,
      "outputs": [
        {
          "output_type": "stream",
          "text": "[[0.166648]\n [0.166364]\n [0.166298]\n [0.166755]\n [0.167064]\n [0.166871]]\nSD Observed 0.00026935086576598436\nSD Actual 1.707825127659933\n",
          "name": "stdout"
        }
      ]
    },
    {
      "metadata": {
        "deletable": false,
        "editable": false,
        "nbgrader": {
          "cell_type": "markdown",
          "checksum": "36bcc27ebc5dd171db48bb5806f8aaf6",
          "grade": false,
          "grade_id": "cell-007e984f33e27da1",
          "locked": true,
          "schema_version": 3,
          "solution": false
        }
      },
      "cell_type": "markdown",
      "source": "## Exercise 05.2 (data compression)\n\nFor devices with limited memory, data compression can be important. Data compression is\na field of its own, but with libraries we can compress (and uncompress) data easily without being expert in\nthe details.\n\nBelow is a program code for compressing a passage from Hamlet, by Shakespeare."
    },
    {
      "metadata": {
        "deletable": false,
        "editable": false,
        "nbgrader": {
          "cell_type": "code",
          "checksum": "76fd7da1deb076195800c6277428ff17",
          "grade": false,
          "grade_id": "cell-3c2032bdba4a917a",
          "locked": true,
          "schema_version": 3,
          "solution": false
        },
        "trusted": true
      },
      "cell_type": "code",
      "source": "# Import the compression module\nimport zlib\n\n# Create a string that we wish to compress\ntext = \"\"\"\nWelcome, dear Rosencrantz and Guildenstern!\nMoreover that we much did long to see you,\nThe need we have to use you did provoke\nOur hasty sending. Something have you heard\nOf Hamlet's transformation; so call it,\nSith nor the exterior nor the inward man\nResembles that it was. What it should be,\nMore than his father's death, that thus hath put him\nSo much from the understanding of himself,\nI cannot dream of: I entreat you both,\nThat, being of so young days brought up with him,\nAnd sith so neighbour'd to his youth and havior,\nThat you vouchsafe your rest here in our court\nSome little time: so by your companies\nTo draw him on to pleasures, and to gather,\nSo much as from occasion you may glean,\nWhether aught, to us unknown, afflicts him thus,\nThat, open'd, lies within our remedy.\"\"\"\n\n# Convert Python string to bytes and check type\ntext_bytes = text.encode(\"utf-8\")\nprint(type(text_bytes))\n\n# Get number of bytes used to store string\nprint(\"Number of bytes for uncompressed string:\", len(text_bytes))\n\n# Compress string and get number of byes used for compressed string\ntext_comp = zlib.compress(text_bytes)\nprint(\"Number of bytes for compressed string:\", len(text_comp))\n\n# Display the compression efficiency\nprint(\"Compression efficiency: \", len(text_comp)/len(text_bytes))\n\n# Decompress the string\ntext_decomp = zlib.decompress(text_comp)\n\n# Check that original and decompressed string are the same (more on aseret)\nif text != text_decomp.decode(\"utf-8\"):\n    print(\"Problem: original and decompressed string differ.\")",
      "execution_count": 25,
      "outputs": [
        {
          "output_type": "stream",
          "text": "<class 'bytes'>\nNumber of bytes for uncompressed string: 785\nNumber of bytes for compressed string: 466\nCompression efficiency:  0.5936305732484076\n",
          "name": "stdout"
        }
      ]
    },
    {
      "metadata": {
        "deletable": false,
        "editable": false,
        "nbgrader": {
          "cell_type": "markdown",
          "checksum": "0fe54aee845d95687889dc19b435ba77",
          "grade": false,
          "grade_id": "cell-f80062a015942c13",
          "locked": true,
          "schema_version": 3,
          "solution": false
        }
      },
      "cell_type": "markdown",
      "source": "Using the above as a guide, examine the compression efficiency of \n\n1. Compressing one large string made up of the the passage by Shakespeare repeated 100 times; and\n2. Compressing a random string of the same length as the repeated Shakespeare passage.\n\nTo help you, the below function generates random string of length `N`:"
    },
    {
      "metadata": {
        "deletable": false,
        "editable": false,
        "nbgrader": {
          "cell_type": "code",
          "checksum": "28a57abbb021d924834ef4705e0f90bb",
          "grade": false,
          "grade_id": "cell-6e2a283ca091e187",
          "locked": true,
          "schema_version": 3,
          "solution": false
        },
        "trusted": true
      },
      "cell_type": "code",
      "source": "import random\nimport string\n\ndef random_string(N):\n    return ''.join([random.choice(string.ascii_letters + string.digits) for n in range(N)])\n\nprint(random_string(8))",
      "execution_count": 26,
      "outputs": [
        {
          "output_type": "stream",
          "text": "9HXvJRP9\n",
          "name": "stdout"
        }
      ]
    },
    {
      "metadata": {},
      "cell_type": "markdown",
      "source": "### Solution"
    },
    {
      "metadata": {
        "deletable": false,
        "editable": false,
        "nbgrader": {
          "cell_type": "code",
          "checksum": "f2cd0f781558ed7eb4413c8b2c2198cf",
          "grade": false,
          "grade_id": "cell-169d40e6f3aadc18",
          "locked": true,
          "schema_version": 3,
          "solution": false
        },
        "trusted": true
      },
      "cell_type": "code",
      "source": "# Create a string\ntext = \"\"\"\nWelcome, dear Rosencrantz and Guildenstern!\nMoreover that we much did long to see you,\nThe need we have to use you did provoke\nOur hasty sending. Something have you heard\nOf Hamlet's transformation; so call it,\nSith nor the exterior nor the inward man\nResembles that it was. What it should be,\nMore than his father's death, that thus hath put him\nSo much from the understanding of himself,\nI cannot dream of: I entreat you both,\nThat, being of so young days brought up with him,\nAnd sith so neighbour'd to his youth and havior,\nThat you vouchsafe your rest here in our court\nSome little time: so by your companies\nTo draw him on to pleasures, and to gather,\nSo much as from occasion you may glean,\nWhether aught, to us unknown, afflicts him thus,\nThat, open'd, lies within our remedy.\"\"\"",
      "execution_count": 27,
      "outputs": []
    },
    {
      "metadata": {
        "deletable": false,
        "editable": false,
        "nbgrader": {
          "cell_type": "markdown",
          "checksum": "5ff95e98d7993220b5b491a4081c44c0",
          "grade": false,
          "grade_id": "cell-6dd8e7572f189eff",
          "locked": true,
          "schema_version": 3,
          "solution": false
        }
      },
      "cell_type": "markdown",
      "source": "Import the necessary modules:"
    },
    {
      "metadata": {
        "deletable": false,
        "editable": false,
        "nbgrader": {
          "cell_type": "code",
          "checksum": "1f92d1231c21a688b037ef6d9cc9294a",
          "grade": false,
          "grade_id": "cell-93be06c0b8818e9e",
          "locked": true,
          "schema_version": 3,
          "solution": false
        },
        "trusted": true
      },
      "cell_type": "code",
      "source": "import random\nimport string\nimport zlib",
      "execution_count": 28,
      "outputs": []
    },
    {
      "metadata": {
        "deletable": false,
        "editable": false,
        "nbgrader": {
          "cell_type": "markdown",
          "checksum": "79b8ee9892e83429e39f65d2e075fa45",
          "grade": false,
          "grade_id": "cell-6c9348155e28f467",
          "locked": true,
          "schema_version": 3,
          "solution": false
        }
      },
      "cell_type": "markdown",
      "source": "Repeat the Shakespeare string 100 times, and compress:"
    },
    {
      "metadata": {
        "deletable": false,
        "nbgrader": {
          "cell_type": "code",
          "checksum": "edac5251a56b1190fee5c9e7349d3f63",
          "grade": false,
          "grade_id": "cell-c08bb020d9be6620",
          "locked": false,
          "schema_version": 3,
          "solution": true
        },
        "trusted": true
      },
      "cell_type": "code",
      "source": "# Create string of Shakespeare passage repeated 100 times\n# YOUR CODE HERE\ntext*=100\ntext_bytes = text.encode(\"utf-8\")\n%time text_comp = zlib.compress(text_bytes)\n\n# Get number of bytes used to store string\nprint(\"Number of bytes for uncompressed string:\", len(text_bytes))",
      "execution_count": 29,
      "outputs": [
        {
          "output_type": "stream",
          "text": "CPU times: user 981 µs, sys: 0 ns, total: 981 µs\nWall time: 586 µs\nNumber of bytes for uncompressed string: 78500\n",
          "name": "stdout"
        }
      ]
    },
    {
      "metadata": {
        "deletable": false,
        "editable": false,
        "nbgrader": {
          "cell_type": "markdown",
          "checksum": "16883ec26de137558d302ac47ad9743c",
          "grade": false,
          "grade_id": "cell-ea781714f8a7db87",
          "locked": true,
          "schema_version": 3,
          "solution": false
        }
      },
      "cell_type": "markdown",
      "source": "Create random string and compress:"
    },
    {
      "metadata": {
        "deletable": false,
        "nbgrader": {
          "cell_type": "code",
          "checksum": "b7442cbb06e29f3f3ca705b05487f55c",
          "grade": false,
          "grade_id": "cell-c5d8c07589ec3cd1",
          "locked": false,
          "schema_version": 3,
          "solution": true
        },
        "trusted": true
      },
      "cell_type": "code",
      "source": "# YOUR CODE HERE\nnum_of_chars = len(text)\nran_text = random_string(num_of_chars)\nran_text_bytes = ran_text.encode(\"utf-8\")\n%time ran_text_comp = zlib.compress(ran_text_bytes)\n\n# Get number of bytes used to store string\nprint(\"Number of bytes for uncompressed string:\", len(ran_text_bytes))",
      "execution_count": 30,
      "outputs": [
        {
          "output_type": "stream",
          "text": "CPU times: user 9.57 ms, sys: 0 ns, total: 9.57 ms\nWall time: 9.58 ms\nNumber of bytes for uncompressed string: 78500\n",
          "name": "stdout"
        }
      ]
    },
    {
      "metadata": {
        "deletable": false,
        "editable": false,
        "nbgrader": {
          "cell_type": "markdown",
          "checksum": "c6cc082101b86f87ac9d8df2b18b307e",
          "grade": false,
          "grade_id": "cell-36c10b63438d6d4a",
          "locked": true,
          "schema_version": 3,
          "solution": false
        }
      },
      "cell_type": "markdown",
      "source": "Compare compression efficiency:"
    },
    {
      "metadata": {
        "deletable": false,
        "nbgrader": {
          "cell_type": "code",
          "checksum": "66aa622e93c710b8a7ce0d6bcb6f5ff3",
          "grade": true,
          "grade_id": "cell-a2dd98ee370e22a3",
          "locked": false,
          "points": 0,
          "schema_version": 3,
          "solution": true
        },
        "trusted": true
      },
      "cell_type": "code",
      "source": "# YOUR CODE HERE\n\n# Display the compression efficiency\nprint(\"Compression efficiency for repeated text: \", len(text_comp)/len(text_bytes))\nprint(\"Compression efficiency for random text: \", len(ran_text_comp)/len(ran_text_bytes))",
      "execution_count": 31,
      "outputs": [
        {
          "output_type": "stream",
          "text": "Compression efficiency for repeated text:  0.01178343949044586\nCompression efficiency for random text:  0.7521273885350318\n",
          "name": "stdout"
        }
      ]
    },
    {
      "metadata": {
        "trusted": true
      },
      "cell_type": "code",
      "source": "",
      "execution_count": null,
      "outputs": []
    },
    {
      "metadata": {
        "trusted": true
      },
      "cell_type": "code",
      "source": "",
      "execution_count": null,
      "outputs": []
    },
    {
      "metadata": {
        "trusted": true
      },
      "cell_type": "code",
      "source": "",
      "execution_count": null,
      "outputs": []
    }
  ],
  "metadata": {
    "kernelspec": {
      "name": "python3",
      "display_name": "Python 3",
      "language": "python"
    },
    "language_info": {
      "mimetype": "text/x-python",
      "nbconvert_exporter": "python",
      "name": "python",
      "file_extension": ".py",
      "version": "3.5.4",
      "pygments_lexer": "ipython3",
      "codemirror_mode": {
        "version": 3,
        "name": "ipython"
      }
    }
  },
  "nbformat": 4,
  "nbformat_minor": 4
}