{
  "cells": [
    {
      "metadata": {
        "deletable": false,
        "editable": false,
        "nbgrader": {
          "cell_type": "markdown",
          "checksum": "8ceeabcb46de5ad626384fc60e218d16",
          "grade": false,
          "grade_id": "cell-bccc9a5624d0e0f9",
          "locked": true,
          "schema_version": 3,
          "solution": false
        }
      },
      "cell_type": "markdown",
      "source": "## Exercise 03.1\n\nCompare the computed values of \n\n$$ \nd_0 = a \\cdot b + a  \\cdot  c\n$$\n\nand \n\n$$ \nd_1 = a \\cdot (b + c)\n$$\n\nwhen $a = 100$, $b = 0.1$ and $c = 0.2$. Store $d_{0}$ in the variable `d0` and $d_{1}$ in the variable `d1`.\n\n\nTry checking for equality, e.g. `print(d0 == d1)`. "
    },
    {
      "metadata": {
        "deletable": false,
        "nbgrader": {
          "cell_type": "code",
          "checksum": "30e30b82e08f44a2f3f834314203be69",
          "grade": false,
          "grade_id": "cell-447110c225124fc4",
          "locked": false,
          "schema_version": 3,
          "solution": true
        },
        "trusted": true
      },
      "cell_type": "code",
      "source": "a = 100\nb = 0.1\nc = 0.2\nd0 = a*b+a*c\nd1 = a*(b+c)\nprint(d0)\nprint(d1)",
      "execution_count": 14,
      "outputs": [
        {
          "output_type": "stream",
          "text": "30.0\n30.000000000000004\n",
          "name": "stdout"
        }
      ]
    },
    {
      "metadata": {
        "deletable": false,
        "editable": false,
        "nbgrader": {
          "cell_type": "code",
          "checksum": "56a58c181d43d8dbad56dff6ed45377a",
          "grade": true,
          "grade_id": "cell-91f2d89d88ea86c0",
          "locked": true,
          "points": 0,
          "schema_version": 3,
          "solution": false
        },
        "trusted": true
      },
      "cell_type": "code",
      "source": "assert d0 == 30.0\nassert d1 != 30.0\nassert d0 != d1",
      "execution_count": 15,
      "outputs": []
    },
    {
      "metadata": {},
      "cell_type": "markdown",
      "source": "## Exercise 03.2\n\nFor the polynomial \n\\begin{align}\nf(x, y) &= (x + y)^{6} \n\\\\\n&=  x^6 + 6x^{5}y + 15x^{4}y^{2} + 20x^{3}y^{3} + 15x^{2}y^{4} + 6xy^{5} + y^{6}\n\\end{align}\ncompute $f$ using: (i) the compact form $(x + y)^{6}$; and (ii) the expanded form for:\n\n(a) $x = 10$ and $y = 10.1$\n\n(b) $x = 10$ and $y = -10.1$\n\nand compare the number of significant digits for which the answers are the same.\nStore the answer for the compact version using the variable `f0`, and using the variable `f1` for the expanded version.\n\nFor case (b), compare the computed and analytical solutions and consider the relative error.\nWhich approach would you recommend for computing this expression?"
    },
    {
      "metadata": {},
      "cell_type": "markdown",
      "source": "#### (a) $x = 10$ and $y = 10.1$"
    },
    {
      "metadata": {
        "deletable": false,
        "nbgrader": {
          "cell_type": "code",
          "checksum": "908f40d0d9b9a84a5daeb5f1d2a18a3c",
          "grade": false,
          "grade_id": "cell-e8428e3de87d5500",
          "locked": false,
          "schema_version": 3,
          "solution": true
        },
        "trusted": true
      },
      "cell_type": "code",
      "source": "x = 10.0\ny = 10.1\n\nf0 = (x+y)**6\nprint(f0)\n\ndef f(x,y):\n    return (x**6 + 6*x**5*y + 15*x**4*y**2 + 20*x**3*y**3 + 15*x**2*y**4 + 6*x*y**5 + y**6)\nf1 = f(x,y)\nprint(f1)",
      "execution_count": 16,
      "outputs": [
        {
          "output_type": "stream",
          "text": "65944160.60120103\n65944160.601201\n",
          "name": "stdout"
        }
      ]
    },
    {
      "metadata": {
        "deletable": false,
        "editable": false,
        "nbgrader": {
          "cell_type": "code",
          "checksum": "a4940106bcc4e616b922050d78981780",
          "grade": true,
          "grade_id": "cell-55d184514edf3a67",
          "locked": true,
          "points": 0,
          "schema_version": 3,
          "solution": false
        },
        "trusted": true
      },
      "cell_type": "code",
      "source": "import math\nassert math.isclose(f0, 65944160.60120103, rel_tol=1e-10)\nassert math.isclose(f1, 65944160.601201, rel_tol=1e-10)",
      "execution_count": 17,
      "outputs": []
    },
    {
      "metadata": {},
      "cell_type": "markdown",
      "source": "#### (b) $x = 10$ and $y = -10.1$"
    },
    {
      "metadata": {
        "deletable": false,
        "nbgrader": {
          "cell_type": "code",
          "checksum": "e36a4f376b117817ad05ca02c2bda3c6",
          "grade": false,
          "grade_id": "cell-1561d20281ff67f6",
          "locked": false,
          "schema_version": 3,
          "solution": true
        },
        "trusted": true
      },
      "cell_type": "code",
      "source": "x = 10.0\ny = -10.1\n\nf0 = (x+y)**6\nprint(f0)\n\ndef f(x,y):\n    return (x**6 + 6*x**5*y + 15*x**4*y**2 + 20*x**3*y**3 + 15*x**2*y**4 + 6*x*y**5 + y**6)\nf1 = f(x,y)\nprint(f1)\n\n#Relative Error:\nerror = 100 * abs(f0 - f1)/f0\nprint(\"Error: {0} %\".format(error)) #0.4% isn't too bad",
      "execution_count": 18,
      "outputs": [
        {
          "output_type": "stream",
          "text": "9.999999999999788e-07\n9.958166629076004e-07\nError: 0.41833370923784646 %\n",
          "name": "stdout"
        }
      ]
    },
    {
      "metadata": {
        "trusted": true
      },
      "cell_type": "code",
      "source": "import math\nassert math.isclose(f0, 1.0e-6, rel_tol=1e-10)\nassert math.isclose(f1, 1.0e-6, rel_tol=1e-2)",
      "execution_count": 19,
      "outputs": []
    },
    {
      "metadata": {},
      "cell_type": "markdown",
      "source": "## Exercise 03.3\n\nConsider the expression\n\n$$\nf = \\frac{1}{\\sqrt{x^2 - 1} - x}\n$$\nprint('%10^7')\nWhen $x$ is very large, the denominator approaches zero, which can cause problems.\n\nTry rephrasing the problem and eliminating the fraction by multiplying the numerator and denominator by $\\sqrt{x^2 - 1} + x$ and evaluate the two versions of the expression when:\n\n(a) $x = 1 \\times 10^{7}$\n\n(b) $x = 1 \\times 10^{9}$ (You may get a Python error for this case. Why?)"
    },
    {
      "metadata": {
        "trusted": true
      },
      "cell_type": "code",
      "source": "%time print(\"hi\")",
      "execution_count": 12,
      "outputs": [
        {
          "output_type": "stream",
          "text": "hi\nCPU times: user 57 µs, sys: 134 µs, total: 191 µs\nWall time: 169 µs\n",
          "name": "stdout"
        }
      ]
    },
    {
      "metadata": {
        "deletable": false,
        "editable": false,
        "nbgrader": {
          "cell_type": "markdown",
          "checksum": "c09b66f37bdee28ed52c52b6017f2cf2",
          "grade": false,
          "grade_id": "cell-53e1abf388eedabe",
          "locked": true,
          "schema_version": 3,
          "solution": false
        }
      },
      "cell_type": "markdown",
      "source": "#### (a) $x = 1 \\times 10^{7}$"
    },
    {
      "metadata": {
        "deletable": false,
        "nbgrader": {
          "cell_type": "code",
          "checksum": "07ff77b706b18c392edfb815685a3bc3",
          "grade": true,
          "grade_id": "cell-149ac8791e7ff020",
          "locked": false,
          "points": 0,
          "schema_version": 3,
          "solution": true
        },
        "trusted": true
      },
      "cell_type": "code",
      "source": "x = 10**7\n\ndef f_1(x):\n    return (1/((x**2-1)**0.5 - x))\n\ndef f_2(x):\n    return (-(x**2-1)**0.5-x)\n\nprint(f_1(x))\nprint(f_2(x))",
      "execution_count": 20,
      "outputs": [
        {
          "output_type": "stream",
          "text": "-19884107.85185185\n-19999999.999999948\n",
          "name": "stdout"
        }
      ]
    },
    {
      "metadata": {
        "deletable": false,
        "editable": false,
        "nbgrader": {
          "cell_type": "markdown",
          "checksum": "c2132f7f9da6593c6536e19435aeeab7",
          "grade": false,
          "grade_id": "cell-bcc863a1c5c8a6f8",
          "locked": true,
          "schema_version": 3,
          "solution": false
        }
      },
      "cell_type": "markdown",
      "source": "#### (b) $x = 1 \\times 10^{9}$"
    },
    {
      "metadata": {
        "deletable": false,
        "nbgrader": {
          "cell_type": "code",
          "checksum": "c2e05e9fd5ffdd3901355b52c90169ba",
          "grade": true,
          "grade_id": "cell-4ef986ef1f5838ba",
          "locked": false,
          "points": 0,
          "schema_version": 3,
          "solution": true
        },
        "trusted": true
      },
      "cell_type": "code",
      "source": "import numpy as np\n\nx = np.float64(10**9)\n\n#print(x.bit_length())\n\ndef f_1(x):\n    return (1/((x**2-1)**0.5 - x))\n\ndef f_2(x):\n    return (-(x**2-1)**0.5-x)\n\nprint(f_2(x))\nprint(f_1(x)) #Returns DBZ error",
      "execution_count": 21,
      "outputs": [
        {
          "output_type": "stream",
          "text": "-2000000000.0\ninf\n",
          "name": "stdout"
        },
        {
          "output_type": "stream",
          "text": "/home/nbuser/anaconda3_420/lib/python3.5/site-packages/ipykernel/__main__.py:8: RuntimeWarning: divide by zero encountered in double_scalars\n",
          "name": "stderr"
        }
      ]
    },
    {
      "metadata": {
        "trusted": true
      },
      "cell_type": "code",
      "source": "",
      "execution_count": null,
      "outputs": []
    },
    {
      "metadata": {
        "trusted": true
      },
      "cell_type": "code",
      "source": "",
      "execution_count": null,
      "outputs": []
    }
  ],
  "metadata": {
    "kernelspec": {
      "name": "python3",
      "display_name": "Python 3",
      "language": "python"
    },
    "language_info": {
      "mimetype": "text/x-python",
      "nbconvert_exporter": "python",
      "name": "python",
      "pygments_lexer": "ipython3",
      "version": "3.5.4",
      "file_extension": ".py",
      "codemirror_mode": {
        "version": 3,
        "name": "ipython"
      }
    }
  },
  "nbformat": 4,
  "nbformat_minor": 4
}