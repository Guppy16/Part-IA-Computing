{
  "cells": [
    {
      "metadata": {},
      "cell_type": "markdown",
      "source": "Make NumPy available:"
    },
    {
      "metadata": {
        "trusted": true
      },
      "cell_type": "code",
      "source": "#Install latest version of pip\n!pip install --upgrade pip\n\n#Increase speed using numba library\n!pip -q install numba # -q is for quiet mode\nimport numba",
      "execution_count": null,
      "outputs": [
        {
          "output_type": "stream",
          "text": "Requirement already up-to-date: pip in /home/nbuser/anaconda3_420/lib/python3.5/site-packages (19.3.1)\r\n",
          "name": "stdout"
        }
      ]
    },
    {
      "metadata": {
        "trusted": true
      },
      "cell_type": "code",
      "source": "import numpy as np",
      "execution_count": null,
      "outputs": []
    },
    {
      "metadata": {},
      "cell_type": "markdown",
      "source": "## Exercise 07.1 (indexing and timing)\n\nCreate two very long NumPy arrays `x` and `y` and sum the arrays using:\n\n1. The NumPy addition syntax, `z = x + y`; and\n2. A `for` loop that computes the sum entry-by-entry\n\nCompare the time required for the two approaches for vectors of different lengths (use a very long vector for \nthe timing). The values of the array entries are not important for this test. Use `%time` to report the time.\n\n*Hint:* To loop over an array using indices, try a construction like:"
    },
    {
      "metadata": {
        "trusted": true
      },
      "cell_type": "code",
      "source": "x = np.ones(10)\ny = np.ones(len(x))\nfor i in range(len(x)):\n    print(x[i]*y[i])",
      "execution_count": null,
      "outputs": []
    },
    {
      "metadata": {},
      "cell_type": "markdown",
      "source": "#### (1) Add two vectors using built-in addition operator:"
    },
    {
      "metadata": {
        "deletable": false,
        "nbgrader": {
          "cell_type": "code",
          "checksum": "4b3a6fbbfcbe89681e9e2f04cab73d67",
          "grade": false,
          "grade_id": "cell-2c856e54f7c3340e",
          "locked": false,
          "schema_version": 3,
          "solution": true
        },
        "trusted": true
      },
      "cell_type": "code",
      "source": "# YOUR CODE HERE\nx = np.random.rand(int(1e4))\ny = np.random.rand(int(1e4))\n\n%time z_1 = x + y",
      "execution_count": null,
      "outputs": []
    },
    {
      "metadata": {},
      "cell_type": "markdown",
      "source": "#### (2) Add two vectors using own implementation:"
    },
    {
      "metadata": {
        "deletable": false,
        "nbgrader": {
          "cell_type": "code",
          "checksum": "f5195f8b039c21a10b079fa7129adf0a",
          "grade": false,
          "grade_id": "cell-f34614f9f0068cc4",
          "locked": false,
          "schema_version": 3,
          "solution": true
        },
        "trusted": true
      },
      "cell_type": "code",
      "source": "# YOUR CODE HERE\n\ndef add_vector(x,y):\n    z_2 = np.zeros(len(x))\n    for i in range(len(x)):\n        z_2[i] = x[i] + y[i]\n    \n%time add_vector(x,y)\n        ",
      "execution_count": null,
      "outputs": []
    },
    {
      "metadata": {
        "trusted": true
      },
      "cell_type": "code",
      "source": "#Increase speed using numba library\n#!pip -q install numba # -q is for quiet mode\n#import numba\n\n@numba.jit\ndef add_vector_jit(x,y):\n    z_3 = np.zeros(len(x))\n    for i in range(len(x)):\n        z_3[i] = x[i] + y[i]\n\n\n%time add_vector_jit(x,y) # Need to call once to complete the compilation step\n%time add_vector_jit(x,y)",
      "execution_count": null,
      "outputs": []
    },
    {
      "metadata": {},
      "cell_type": "markdown",
      "source": "### Optional extension: just-in-time (JIT) compilation\n\nYou will see a large difference in the time required between your NumPy and 'plain' Python implementations. This is due to Python being an *interpreted* language as opposed to a *compiled* language. A way to speed up plain Python implementions is to convert the interpreted Python code into compiled code. A tool for doing this is [Numba](https://numba.pydata.org/).\n\nBelow is an example using Numba and JIT to accelerate a computation:"
    },
    {
      "metadata": {
        "trusted": true
      },
      "cell_type": "code",
      "source": "!pip -q install numba \nimport numba\nimport math\n\ndef compute_sine_native(x):\n    z = np.zeros(len(x))\n    for i in range(len(z)):\n        z[i] = math.sin(x[i])\n    return z\n\n@numba.jit\ndef compute_sine_jit(x):\n    z = np.zeros(len(x))\n    for i in range(len(z)):\n        z[i] = math.sin(x[i])\n    return z\n    \nx = np.ones(10000000)\n%time z = compute_sine_native(x)\ncompute_sine_jit(x)\n%time z = compute_sine_jit(x)",
      "execution_count": 7,
      "outputs": [
        {
          "output_type": "stream",
          "text": "CPU times: user 22.8 s, sys: 29.6 s, total: 52.4 s\nWall time: 1min 10s\nCPU times: user 1.01 s, sys: 2.1 s, total: 3.1 s\nWall time: 3.52 s\n",
          "name": "stdout"
        }
      ]
    },
    {
      "metadata": {},
      "cell_type": "markdown",
      "source": "**Task:** Test if Numba can be used to accelerate your implementation that uses indexing to sum two arrays, and by how much."
    },
    {
      "metadata": {},
      "cell_type": "markdown",
      "source": "## Exercise 07.2 (member functions and slicing)\n\nAnonymised scores (out of 60) for an examination are stored in a NumPy array. Write:\n\n1. A function that takes a NumPy array of the raw scores and returns the scores as percentages, sorted from \n   lowest to highest (try using `scores.sort()`, where `scores` is a NumPy array holding the scores).\n1. A function that returns the maximum, minimum and mean of the raw scores as a dictionary with the \n   keys '`min`', '`max`' and '`mean`'. Use the NumPy array functions `min()`, `max()` and `mean()` to do the \n   computation, e.g. `max = scores.max()`.  \n   \n   Design your function for the min, max and mean to optionally exclude the highest and lowest scores from the \n   computation of the min, max and mean. \n   \n   *Hint:* sort the array of scores and use array slicing to exclude\n   the first and the last entries.\n\nUse the scores \n```python\nscores = np.array([58.0, 35.0, 24.0, 42, 7.8])\n```\nto test your functions."
    },
    {
      "metadata": {
        "deletable": false,
        "nbgrader": {
          "cell_type": "code",
          "checksum": "0d3f6132335348940f562c8a70c520e9",
          "grade": false,
          "grade_id": "cell-169ebae60810c6be",
          "locked": false,
          "schema_version": 3,
          "solution": true
        },
        "trusted": true
      },
      "cell_type": "code",
      "source": "def to_percentage_and_sort(scores):\n    # YOUR CODE HERE\n    scores *= (100/60)\n    scores.sort()\n    return scores\n\ndef statistics(scores, exclude=False):\n    # YOUR CODE HERE\n    score_data = {\"min\": None, \"max\": None, \"mean\": None}\n    if exclude == False:\n        scores /= (100/60) # Return scores back to raw\n        pass\n    else:\n        #Remove the max entry and the min entry\n        scores.sort()\n        scores = np.delete(scores, len(scores) - 1) #Remove highest element\n        scores = np.delete(scores, 0) #Remove lowest element\n\n    score_data[\"min\"] = scores.min()\n    score_data[\"max\"] = scores.max()\n    score_data[\"mean\"] = scores.mean()\n    return score_data",
      "execution_count": 8,
      "outputs": []
    },
    {
      "metadata": {
        "deletable": false,
        "editable": false,
        "nbgrader": {
          "cell_type": "code",
          "checksum": "49817c794fad305adbe95251448b7bf2",
          "grade": true,
          "grade_id": "cell-af0b6fd8a3cadb1a",
          "locked": true,
          "points": 0,
          "schema_version": 3,
          "solution": false
        },
        "trusted": true
      },
      "cell_type": "code",
      "source": "scores = np.array([58.0, 35.0, 24.0, 42, 7.8])\nassert np.isclose(to_percentage_and_sort(scores), [ 13.0, 40.0, 58.33333333,  70.0, 96.66666667]).all()\n\ns0 = statistics(scores)\nassert round(s0[\"min\"] - 7.8, 10) == 0.0\nassert round(s0[\"mean\"] - 33.36, 10) == 0.0\nassert round(s0[\"max\"] - 58.0, 10) == 0.0\n\ns1 = statistics(scores, True)\nassert round(s1[\"min\"] - 24.0, 10) == 0.0\nassert round(s1[\"mean\"] - 33.666666666666666667, 10) == 0.0\nassert round(s1[\"max\"] - 42.0, 10) == 0.0",
      "execution_count": 9,
      "outputs": []
    },
    {
      "metadata": {
        "deletable": false,
        "editable": false,
        "nbgrader": {
          "cell_type": "markdown",
          "checksum": "59fe9ff8629e2b641f8c654b3c0c36ee",
          "grade": false,
          "grade_id": "cell-27beb42d6b15acad",
          "locked": true,
          "schema_version": 3,
          "solution": false
        }
      },
      "cell_type": "markdown",
      "source": "## Exercise 07.3 (slicing)\n\nFor the two-dimensional array"
    },
    {
      "metadata": {
        "deletable": false,
        "editable": false,
        "nbgrader": {
          "cell_type": "code",
          "checksum": "72617327e9686e23fc46fd8b050dfddc",
          "grade": false,
          "grade_id": "cell-73a8893e46856789",
          "locked": true,
          "schema_version": 3,
          "solution": false
        },
        "trusted": true
      },
      "cell_type": "code",
      "source": "A = np.array([[4.0, 7.0, -2.43, 67.1],\n             [-4.0, 64.0, 54.7, -3.33],\n             [2.43, 23.2, 3.64, 4.11],\n             [1.2, 2.5, -113.2, 323.22]])\nprint(A)",
      "execution_count": 10,
      "outputs": [
        {
          "output_type": "stream",
          "text": "[[   4.      7.     -2.43   67.1 ]\n [  -4.     64.     54.7    -3.33]\n [   2.43   23.2     3.64    4.11]\n [   1.2     2.5  -113.2   323.22]]\n",
          "name": "stdout"
        }
      ]
    },
    {
      "metadata": {},
      "cell_type": "markdown",
      "source": "use array slicing for the below operations, printing the results to the screen to check. Try to use array slicing such that your code would still work if the dimensions of `A` were enlarged.\n\n"
    },
    {
      "metadata": {
        "deletable": false,
        "editable": false,
        "nbgrader": {
          "cell_type": "markdown",
          "checksum": "6d041f0cf31860711599e3ee7b3491a3",
          "grade": false,
          "grade_id": "cell-f6744c8a86e68cac",
          "locked": true,
          "schema_version": 3,
          "solution": false
        }
      },
      "cell_type": "markdown",
      "source": "#### 1. Extract the third column as a 1D array"
    },
    {
      "metadata": {
        "deletable": false,
        "nbgrader": {
          "cell_type": "code",
          "checksum": "b64ade07370f5fee0946cac30ec0e2ad",
          "grade": false,
          "grade_id": "cell-dfee6b0ed9343682",
          "locked": false,
          "schema_version": 3,
          "solution": true
        },
        "trusted": true
      },
      "cell_type": "code",
      "source": "# YOUR CODE HERE\nprint(A[:,2])",
      "execution_count": 11,
      "outputs": [
        {
          "output_type": "stream",
          "text": "[  -2.43   54.7     3.64 -113.2 ]\n",
          "name": "stdout"
        }
      ]
    },
    {
      "metadata": {},
      "cell_type": "markdown",
      "source": "#### 2. Extract the first two rows as a 2D sub-array"
    },
    {
      "metadata": {
        "deletable": false,
        "nbgrader": {
          "cell_type": "code",
          "checksum": "1501ee7c2e53e803ab2ee91f060600f6",
          "grade": true,
          "grade_id": "cell-7bf2f9a8c67029f8",
          "locked": false,
          "points": 0,
          "schema_version": 3,
          "solution": true
        },
        "trusted": true
      },
      "cell_type": "code",
      "source": "# YOUR CODE HERE\nprint(A[:2])",
      "execution_count": 12,
      "outputs": [
        {
          "output_type": "stream",
          "text": "[[ 4.    7.   -2.43 67.1 ]\n [-4.   64.   54.7  -3.33]]\n",
          "name": "stdout"
        }
      ]
    },
    {
      "metadata": {},
      "cell_type": "markdown",
      "source": "#### 3.  Extract the bottom-right $2 \\times 2$ block as a 2D sub-array"
    },
    {
      "metadata": {
        "deletable": false,
        "nbgrader": {
          "cell_type": "code",
          "checksum": "f71dc316fa8df4bfd0d201a822e3649b",
          "grade": false,
          "grade_id": "cell-5206fea47d246222",
          "locked": false,
          "schema_version": 3,
          "solution": true
        },
        "trusted": true
      },
      "cell_type": "code",
      "source": "# YOUR CODE HERE\nprint(A[-2:,-2:])",
      "execution_count": 13,
      "outputs": [
        {
          "output_type": "stream",
          "text": "[[   3.64    4.11]\n [-113.2   323.22]]\n",
          "name": "stdout"
        }
      ]
    },
    {
      "metadata": {},
      "cell_type": "markdown",
      "source": "#### 4. Sum the last column"
    },
    {
      "metadata": {
        "deletable": false,
        "nbgrader": {
          "cell_type": "code",
          "checksum": "e838dfdea65683c219df150d9e896d98",
          "grade": false,
          "grade_id": "cell-34f74988e47b9f87",
          "locked": false,
          "schema_version": 3,
          "solution": true
        },
        "trusted": true
      },
      "cell_type": "code",
      "source": "# YOUR CODE HERE\nprint(np.sum(A[:,-1]))",
      "execution_count": 14,
      "outputs": [
        {
          "output_type": "stream",
          "text": "391.1\n",
          "name": "stdout"
        }
      ]
    },
    {
      "metadata": {},
      "cell_type": "markdown",
      "source": "#### Compute transpose\n\nCompute the transpose of `A` (search online to find the function/syntax to do this)."
    },
    {
      "metadata": {
        "deletable": false,
        "nbgrader": {
          "cell_type": "code",
          "checksum": "b9cbe5f84f05129cbc0152ce8c36f470",
          "grade": false,
          "grade_id": "cell-dd2999d2da8070f6",
          "locked": false,
          "schema_version": 3,
          "solution": true
        },
        "trusted": true
      },
      "cell_type": "code",
      "source": "# YOUR CODE HERE\nprint(A.T)",
      "execution_count": 15,
      "outputs": [
        {
          "output_type": "stream",
          "text": "[[   4.     -4.      2.43    1.2 ]\n [   7.     64.     23.2     2.5 ]\n [  -2.43   54.7     3.64 -113.2 ]\n [  67.1    -3.33    4.11  323.22]]\n",
          "name": "stdout"
        }
      ]
    },
    {
      "metadata": {
        "deletable": false,
        "editable": false,
        "nbgrader": {
          "cell_type": "markdown",
          "checksum": "f68e05e6631a183befcd0eea778623a2",
          "grade": false,
          "grade_id": "cell-f1255669c8aa78d2",
          "locked": true,
          "schema_version": 3,
          "solution": false
        }
      },
      "cell_type": "markdown",
      "source": "## Exercise 07.4 (optional extension)\n\nIn a previous exercise you implemented the bisection algorithm to find approximate roots of a mathematical function. Use the SciPy bisection function `optimize.bisect` (http://docs.scipy.org/doc/scipy-0.14.0/reference/generated/scipy.optimize.bisect.html) to find roots of the mathematical function that was used in the previous exercise. Compare the results computed by SciPy and your program from the earlier exercise, and compare the computational time (using `%time`)."
    },
    {
      "metadata": {
        "trusted": true
      },
      "cell_type": "code",
      "source": "#@numba.jit #Slows down with numba.jit???\ndef my_f(x):\n    \"Evaluate polynomial function\"\n    return x**3 - 6*x**2 + 4*x + 12",
      "execution_count": 16,
      "outputs": []
    },
    {
      "metadata": {
        "deletable": false,
        "nbgrader": {
          "cell_type": "code",
          "checksum": "ed949860804630c700d7f9885647c14d",
          "grade": false,
          "grade_id": "cell-b6580accbcb3c2da",
          "locked": false,
          "schema_version": 3,
          "solution": true
        },
        "trusted": true
      },
      "cell_type": "code",
      "source": "from scipy import optimize\n\n%time optimize.bisect(f=my_f, a=3, b=6, xtol=1.0e-6, maxiter=1000)",
      "execution_count": 17,
      "outputs": [
        {
          "output_type": "stream",
          "text": "CPU times: user 15 µs, sys: 31 µs, total: 46 µs\nWall time: 51.7 µs\n",
          "name": "stdout"
        },
        {
          "output_type": "execute_result",
          "execution_count": 17,
          "data": {
            "text/plain": "4.534069776535034"
          },
          "metadata": {}
        }
      ]
    },
    {
      "metadata": {
        "trusted": true
      },
      "cell_type": "code",
      "source": "#@numba.jit #Doesn't WORK??\ndef compute_root(f, x0, x1, tol, max_it):\n    \"Compute roots of a function using bisection\"\n    it = 0\n    error = tol + 1. #Set error to be greater than the tolerance\n    \n    while error > tol and it < max_it:\n        #Increment counter\n        it += 1\n        \n        #Get mid val\n        x_mid = (x0 + x1)/2\n        \n        #Compute f(x0) and f(x_mid)\n        f0 = f(x0)\n        f_mid = f(x_mid)\n        \n        #Get the sign\n        sign = f0 * f_mid\n        \n        if sign < 0: #Negative, so move x1 to x_mid\n            x1 = x_mid\n        else:\n            x0 = x_mid\n        \n        #Get error\n        error = abs(f_mid)\n     \n    return x_mid, f_mid, it\n\n%time compute_root(my_f, x0=3, x1=6, tol=1.0e-6, max_it=1000)\n%time compute_root(my_f, x0=3, x1=6, tol=1.0e-6, max_it=1000)",
      "execution_count": 18,
      "outputs": [
        {
          "output_type": "stream",
          "text": "CPU times: user 17 µs, sys: 34 µs, total: 51 µs\nWall time: 55.8 µs\nCPU times: user 12 µs, sys: 24 µs, total: 36 µs\nWall time: 39.1 µs\n",
          "name": "stdout"
        },
        {
          "output_type": "execute_result",
          "execution_count": 18,
          "data": {
            "text/plain": "(4.534070134162903, -7.047073751209609e-07, 23)"
          },
          "metadata": {}
        }
      ]
    },
    {
      "metadata": {
        "trusted": true
      },
      "cell_type": "code",
      "source": "",
      "execution_count": null,
      "outputs": []
    }
  ],
  "metadata": {
    "kernelspec": {
      "name": "python3",
      "display_name": "Python 3",
      "language": "python"
    },
    "language_info": {
      "mimetype": "text/x-python",
      "nbconvert_exporter": "python",
      "name": "python",
      "pygments_lexer": "ipython3",
      "version": "3.5.4",
      "file_extension": ".py",
      "codemirror_mode": {
        "version": 3,
        "name": "ipython"
      }
    }
  },
  "nbformat": 4,
  "nbformat_minor": 4
}