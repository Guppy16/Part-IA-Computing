{
  "cells": [
    {
      "metadata": {
        "deletable": false,
        "editable": false,
        "nbgrader": {
          "cell_type": "markdown",
          "checksum": "8969a6543eebd1c7db89a71bb75e61ee",
          "grade": false,
          "grade_id": "cell-7b3313f25bceb7a2",
          "locked": true,
          "schema_version": 3,
          "solution": false
        }
      },
      "cell_type": "markdown",
      "source": "## Exercise 06.1 (selecting and passing data structures)\n\nThe task in Exercise 04 for computing the area of a triangle involved a function with six arguments ($x$ and $y$ components of each vertex). With six arguments, the likelihood of a user passing arguments in the wrong order is high. \n\nUse an appropriate data structure, e.g. a `list`, `tuple`, `dict`, etc,  to develop a new version of the function with a simpler interface (the interface is the arguments that are passed to the function). Add appropriate checks inside your function to validate the input data."
    },
    {
      "metadata": {
        "deletable": false,
        "nbgrader": {
          "cell_type": "code",
          "checksum": "93c53f411edb621595bc865f6c79cbaf",
          "grade": false,
          "grade_id": "cell-50c4566d7bcbffaf",
          "locked": false,
          "schema_version": 3,
          "solution": true
        },
        "trusted": true
      },
      "cell_type": "code",
      "source": "# YOUR CODE HERE\ndef triangleArea(a,b,c):\n    \"return area of triangle in 2D\"\n    \n    #Validate Data (ensure each vector has 2 elements only)\n    if len(a) == 2 and len(b) == 2 and len(c) == 2:\n        if (type(a) == float or type(a) == int or type(a) == complex) and type(a) == type(b) and type(a) == type(c):\n            pass\n    else:\n        print(\"Error: each vector must have 2 components only\")\n        return None\n    \n    #Prev code: return abs(x0*(y1-y2) + x1*(y2-y0) + x2*(y0 - y1))/2\n    #Replace all instance of x,y,0,1,2 with [0],[1],a,b,c\n    return abs(a[0]*(b[1]-c[1]) + b[0]*(c[1]-a[1]) + c[0]*(a[1] - b[1]))/2",
      "execution_count": 29,
      "outputs": []
    },
    {
      "metadata": {
        "trusted": true
      },
      "cell_type": "code",
      "source": "#Test area of triangle form Ex 4\n\na = [0.0 + 0j, 0.0]\nb = [0.0, 2.0]\nc = [3.0, 0.0]\nA = triangleArea(a,b,c)\nprint(A) # Should = 3.0\n",
      "execution_count": 30,
      "outputs": [
        {
          "output_type": "stream",
          "text": "3.0\n",
          "name": "stdout"
        }
      ]
    },
    {
      "metadata": {
        "deletable": false,
        "editable": false,
        "nbgrader": {
          "cell_type": "markdown",
          "checksum": "538793e1776653182d193a7700588461",
          "grade": false,
          "grade_id": "cell-5065052af9989fdf",
          "locked": true,
          "schema_version": 3,
          "solution": false
        }
      },
      "cell_type": "markdown",
      "source": "## Exercise 06.2 (selecting data structures)\n\nFor a simple (non-intersecting) polygon with $n$ vertices, $(x_0, y_0)$, $(x_1, y_1)$, . . , $(x_{n-1}, y_{n-1})$, the area $A$ is given by\n$$\nA = \\left| \\frac{1}{2} \\sum_{i=0}^{n-1} \\left(x_{i} y _{i+1} - x_{i+1} y_{i} \\right) \\right|\n$$\nand where $(x_n, y_n) = (x_0, y_0)$. The vertices should be ordered as you move around the polygon.\n\nWrite a function that computes the area of a simple polygon with an arbitrary number of vertices. Test your function for some simple shapes. Pay careful attention to the range of any loops."
    },
    {
      "metadata": {
        "deletable": false,
        "nbgrader": {
          "cell_type": "code",
          "checksum": "3c6fe94718310475d875ec60534199eb",
          "grade": false,
          "grade_id": "cell-4b5a619405787746",
          "locked": false,
          "schema_version": 3,
          "solution": true
        },
        "trusted": true
      },
      "cell_type": "code",
      "source": "# YOUR CODE HERE\ndef simple_polygon_area(vertices):\n    n = len(vertices)\n    vertices.append(vertices[0]) # Add first element to last index, so that vertices[n] exists\n    tot = 0\n    for i in range (n):\n        tot += vertices[i][0] * vertices[i+1][1] - vertices[i+1][0] * vertices[i][1]\n    tot /= 2\n    return abs(tot)",
      "execution_count": 19,
      "outputs": []
    },
    {
      "metadata": {
        "trusted": true
      },
      "cell_type": "code",
      "source": "#Test for triangle\na = (1.0, 1.0)\nb = (3.0, 1.0)\nc = (3.0, 3.0)\nd = (1.0, 3.0)\nver = [a,b,c,d]\nprint(simple_polygon_area(ver))\n\n# #Test for square\n# d = (3., 2.)\n# ver = [a,b,d,c]\n# print(simple_polygon_area(ver))\n",
      "execution_count": 21,
      "outputs": [
        {
          "output_type": "stream",
          "text": "4.0\n",
          "name": "stdout"
        }
      ]
    },
    {
      "metadata": {
        "deletable": false,
        "editable": false,
        "nbgrader": {
          "cell_type": "markdown",
          "checksum": "31a71dcd54f996f2f798df30114b9faf",
          "grade": false,
          "grade_id": "cell-ced99a38c7bbe7a0",
          "locked": true,
          "schema_version": 3,
          "solution": false
        }
      },
      "cell_type": "markdown",
      "source": "## Exercise 06.3 (indexing)\n\nWrite a function that uses list indexing to add two vectors of arbitrary length, and returns the new vector. Include a check that the vector sizes match, and print a warning message if there is a size mismatch. The more error information you provide, the easier it would be for someone using your function to debug their code.\n\nAdd some tests of your code.\n\n#### Hint: You can create a list of zeros of length `n` by\n\n    z = [0]*n\n    \n#### Optional (advanced) \n\nTry writing a one-line version of this operation using list comprehension and the built-in function [`zip`](https://docs.python.org/3/library/functions.html#zip)."
    },
    {
      "metadata": {
        "deletable": false,
        "nbgrader": {
          "cell_type": "code",
          "checksum": "66ea7d534bb1cbabf82dbcbb69e4dd02",
          "grade": false,
          "grade_id": "cell-47daca03f7a96b62",
          "locked": false,
          "schema_version": 3,
          "solution": true
        },
        "trusted": true
      },
      "cell_type": "code",
      "source": "def sum_vector(x, y):\n    \"Return sum of two vectors\"\n    # YOUR CODE HERE\n    n = len(x)\n    if n == len(y): # Check if x has the same length as y\n        tot = [0]*n\n        for i in range (n):\n            tot[i] = x[i] + y[i]\n    else:\n        print(\"Error: x does not have the same length as y\")\n        return None\n    \n    if n == len(tot):\n        return tot\n    else:\n        print(\"Error: tot does not have the same length as x\")\n        return None",
      "execution_count": 22,
      "outputs": []
    },
    {
      "metadata": {
        "deletable": false,
        "editable": false,
        "nbgrader": {
          "cell_type": "code",
          "checksum": "9b3d802cdb7440be47952667335f5cc7",
          "grade": true,
          "grade_id": "cell-95f5819810d2b2c7",
          "locked": true,
          "points": 0,
          "schema_version": 3,
          "solution": false
        },
        "trusted": true
      },
      "cell_type": "code",
      "source": "a = [0, 4.3, -5, 7]\nb = [-2, 7, -15, 1]\nc = sum_vector(a, b)\nassert c == [-2, 11.3, -20, 8]",
      "execution_count": 23,
      "outputs": []
    },
    {
      "metadata": {},
      "cell_type": "markdown",
      "source": "### Extension: list comprehension"
    },
    {
      "metadata": {
        "deletable": false,
        "nbgrader": {
          "cell_type": "code",
          "checksum": "3ace0d343b7871c30f7776e20669bf3e",
          "grade": true,
          "grade_id": "cell-c182b3f0d8952692",
          "locked": false,
          "points": 0,
          "schema_version": 3,
          "solution": true
        },
        "trusted": true
      },
      "cell_type": "code",
      "source": "# YOUR CODE HERE\nd = [a[i] + b[i] for i in range (len(a))]\nprint(d)",
      "execution_count": 24,
      "outputs": [
        {
          "output_type": "stream",
          "text": "[-2, 11.3, -20, 8]\n",
          "name": "stdout"
        }
      ]
    },
    {
      "metadata": {
        "trusted": true
      },
      "cell_type": "code",
      "source": "[sum(c) for c in zip(a,b)]",
      "execution_count": 25,
      "outputs": [
        {
          "output_type": "execute_result",
          "execution_count": 25,
          "data": {
            "text/plain": "[-2, 11.3, -20, 8]"
          },
          "metadata": {}
        }
      ]
    },
    {
      "metadata": {},
      "cell_type": "markdown",
      "source": "## Exercise 06.4 (dictionaries)\n\nCreate a dictionary that maps college names (the key) to college abbreviations for at least 5 colleges\n(you can find abbreviations at https://en.wikipedia.org/wiki/Colleges_of_the_University_of_Cambridge#Colleges).\nFrom the dictionary, produce and print\n\n1. A dictionary from college abbreviation to name; and\n1. A list of college abbreviations sorted into alphabetical order.\n\n*Optional extension:* Create a dictionary that maps college names (the key) to dictionaries of:\n\n- College abbreviation\n- Year of foundation \n- Total number students\n \nfor at least 5 colleges. Take the data from https://en.wikipedia.org/wiki/Colleges_of_the_University_of_Cambridge#Colleges. Using this dictionary, \n\n1. Find the college with the greatest number of students and print the abbreviation; and \n2. Find the oldest college, and print the number of students and the abbreviation for this college."
    },
    {
      "metadata": {
        "deletable": false,
        "nbgrader": {
          "cell_type": "code",
          "checksum": "892cc4fd98d0f8cc393eff925b5d6b13",
          "grade": false,
          "grade_id": "cell-bc271dc3885e19c5",
          "locked": false,
          "schema_version": 3,
          "solution": true
        },
        "trusted": true
      },
      "cell_type": "code",
      "source": "# YOUR CODE HERE\ncollege_name_to_abb = {\"Christ's\": [\"CHR\"], \"Churchill\": [\"CHU\"], \"Clare\": [\"CL\"], \"Clare Hall\": [\"CLH\"], \"Corpus Christi\": [\"CC\"], \"Dawrin\": [\"DAR\"], \"Downing\": [\"DOW\"], \"Emmanuel\": [\"EM\"], \n                       \"Fitzwilliam\": [\"F\"], \"Girton\": [\"G\"], \"Gonville and Caius\": [\"CAI\"], \"Homerton\": [\"HO\"], \"Hughes Hall\": [\"HH\"], \"Jesus\": [\"JE\"], \"King's\": [\"K\"], \"Lucy Cavendish\": [\"LC\"], \n                       \"Magdalene\": [\"M\"], \"Murray Edwards\": [\"MUR\"], \"Newnham\": [\"N\"], \"Pembroke\": [\"PEM\"], \"Peterhouse\": [\"PET\"], \"Queens'\": [\"Q\"], \"Robinson\": [\"R\"], \"St Catherine's\": [\"CTH\"], \n                       \"St Edmund's\": [\"ED\"], \"Selwyn\": [\"SE\"], \"Sidney Sussex\": [\"SID\"], \"Trinity\": [\"T\"], \"Trinity Hall\": [\"TH\"], \"Wolfson\": [\"W\"],}\n\n# 1. Create a dictionary from college abbreviation to name:\ncollege_abb_to_name = {}\nfor key, value in college_name_to_abb.items():\n    college_abb_to_name[value[0]] = key\n\nprint(college_abb_to_name)\n\n# 2. A list of college abbreviations sorted in alphabetical order\ncollege_abb = []\nfor abb in college_abb_to_name:\n    college_abb.append(abb)\n\ncollege_abb.sort()\nprint(college_abb)\n",
      "execution_count": 26,
      "outputs": [
        {
          "output_type": "stream",
          "text": "{'DOW': 'Downing', 'DAR': 'Dawrin', 'CTH': \"St Catherine's\", 'CAI': 'Gonville and Caius', 'K': \"King's\", 'SE': 'Selwyn', 'JE': 'Jesus', 'W': 'Wolfson', 'MUR': 'Murray Edwards', 'G': 'Girton', 'ED': \"St Edmund's\", 'HO': 'Homerton', 'LC': 'Lucy Cavendish', 'Q': \"Queens'\", 'T': 'Trinity', 'CHR': \"Christ's\", 'CL': 'Clare', 'F': 'Fitzwilliam', 'N': 'Newnham', 'HH': 'Hughes Hall', 'CLH': 'Clare Hall', 'SID': 'Sidney Sussex', 'M': 'Magdalene', 'CC': 'Corpus Christi', 'CHU': 'Churchill', 'TH': 'Trinity Hall', 'R': 'Robinson', 'EM': 'Emmanuel', 'PEM': 'Pembroke', 'PET': 'Peterhouse'}\n['CAI', 'CC', 'CHR', 'CHU', 'CL', 'CLH', 'CTH', 'DAR', 'DOW', 'ED', 'EM', 'F', 'G', 'HH', 'HO', 'JE', 'K', 'LC', 'M', 'MUR', 'N', 'PEM', 'PET', 'Q', 'R', 'SE', 'SID', 'T', 'TH', 'W']\n",
          "name": "stdout"
        }
      ]
    },
    {
      "metadata": {
        "deletable": false,
        "editable": false,
        "nbgrader": {
          "cell_type": "markdown",
          "checksum": "ee373920fe2377cf230967db220ba75a",
          "grade": false,
          "grade_id": "cell-45d2551a524193b0",
          "locked": true,
          "schema_version": 3,
          "solution": false
        }
      },
      "cell_type": "markdown",
      "source": "#### Optional extension"
    },
    {
      "metadata": {
        "deletable": false,
        "nbgrader": {
          "cell_type": "code",
          "checksum": "683b2dc107d00c494b6c163c5ab6cfa8",
          "grade": false,
          "grade_id": "cell-7040c4053c72ce09",
          "locked": false,
          "schema_version": 3,
          "solution": true
        },
        "trusted": true
      },
      "cell_type": "code",
      "source": "# YOUR CODE HERE\ncollege_name_to_abb = {\"Christ's\": [\"CHR\",1505,698], \"Churchill\": [\"CHU\",1960,704], \"Clare\": [\"CL\",1326,655], \"Clare Hall\": [\"CLH\",1966,155], \"Corpus Christi\": [\"CC\",1352,467], \n                       \"Dawrin\": [\"DAR\",1964,710], \"Downing\": [\"DOW\",1800,771], \"Emmanuel\": [\"EM\",1584,750], \"Fitzwilliam\": [\"F\",1869,855], \"Girton\": [\"G\",1869,776], \n                       \"Gonville and Caius\": [\"CAI\",1348,786], \"Homerton\": [\"HO\",1768,1118], \"Hughes Hall\": [\"HH\",1885,736], \"Jesus\": [\"JE\",1496,911], \"King's\": [\"K\",1441,648], \n                       \"Lucy Cavendish\": [\"LC\",1965,380], \"Magdalene\": [\"M\",1428,529], \"Murray Edwards\": [\"MUR\",1954,580], \"Newnham\": [\"N\",1871,638], \"Pembroke\": [\"PEM\",1347,597], \n                       \"Peterhouse\": [\"PET\",1284,370], \"Queens'\": [\"Q\",1448,1034], \"Robinson\": [\"R\",1977,495], \"St Catherine's\": [\"CTH\",1473,621], \"St Edmund's\": [\"ED\",1896,574], \n                       \"Selwyn\": [\"SE\",1882,626], \"Sidney Sussex\": [\"SID\",1596,602], \"Trinity\": [\"T\",1546,1061], \"Trinity Hall\": [\"TH\",1350,612], \"Wolfson\": [\"W\",1965,887],}\n\n# 1. Find the college with the greatest number of students and print the abbreviation\ngreatest_num_students = 0\ncollege_greatest = \"\"\nfor key, value in college_name_to_abb.items():\n    if value[2] > greatest_num_students:\n        greatest_num_students = value[2]\n        college_greatest = key\nprint(\"College with greatest number of students is {} with {} students\".format(college_name_to_abb[college_greatest][0], greatest_num_students))\n\n# 2. Find the oldest college, and print the number of students and the abbreviation for this college\noldest = 2019\ncollege_oldest = \"\"\nfor key, value in college_name_to_abb.items():\n    if value[1] < oldest:\n        oldest = value[1]\n        college_oldest = key\nprint(\"Oldest College is {} with {} students. Age is {}\".format(college_name_to_abb[college_oldest][0], greatest_num_students, college_name_to_abb[college_oldest][1]))\n",
      "execution_count": 27,
      "outputs": [
        {
          "output_type": "stream",
          "text": "College with greatest number of students is HO with 1118 students\nOldest College is PET with 1118 students. Age is 1284\n",
          "name": "stdout"
        }
      ]
    },
    {
      "metadata": {
        "trusted": true
      },
      "cell_type": "code",
      "source": "",
      "execution_count": null,
      "outputs": []
    }
  ],
  "metadata": {
    "kernelspec": {
      "name": "python3",
      "display_name": "Python 3",
      "language": "python"
    },
    "language_info": {
      "mimetype": "text/x-python",
      "nbconvert_exporter": "python",
      "name": "python",
      "pygments_lexer": "ipython3",
      "version": "3.5.4",
      "file_extension": ".py",
      "codemirror_mode": {
        "version": 3,
        "name": "ipython"
      }
    }
  },
  "nbformat": 4,
  "nbformat_minor": 4
}