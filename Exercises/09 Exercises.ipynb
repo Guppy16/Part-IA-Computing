{
  "cells": [
    {
      "metadata": {},
      "cell_type": "markdown",
      "source": "## Exercise 09.1 (checking data validity)\n\nThe Fibonacci series is valid only for $n \\ge 0$. Add to the Fibonacci function in this notebook a check that raises an exception if $n < 0$. Try some invalid data cases to check that an exception is raised.\n\n*Optional:* Use `pytest` to test that an exception *is* raised for some $n < 0$ cases."
    },
    {
      "metadata": {
        "deletable": false,
        "nbgrader": {
          "cell_type": "code",
          "checksum": "3bf4474f254eb94df13368bcbdfbbd25",
          "grade": false,
          "grade_id": "cell-982c3611466532a2",
          "locked": false,
          "schema_version": 3,
          "solution": true
        },
        "trusted": true
      },
      "cell_type": "code",
      "source": "def f(n): \n    \"Compute the nth Fibonacci number using recursion\"\n    if n == 0:\n        return 0\n    elif n == 1:\n        return 1\n    elif n < 0:\n        raise ValueError(\"Entered number must be positive\")\n    else:\n        return f(n-1)+f(n-2)",
      "execution_count": 1,
      "outputs": []
    },
    {
      "metadata": {
        "deletable": false,
        "editable": false,
        "nbgrader": {
          "cell_type": "code",
          "checksum": "9f9ac524212d33e97978ac73892d6d39",
          "grade": true,
          "grade_id": "cell-9b97ea3e85d77f4a",
          "locked": true,
          "points": 0,
          "schema_version": 3,
          "solution": false
        },
        "trusted": true
      },
      "cell_type": "code",
      "source": "# Perform some tests    \nassert f(0) == 0\nassert f(1) == 1\nassert f(2) == 1\nassert f(3) == 2\nassert f(10) == 55\nassert f(15) == 610\n\n# Check that ValueError is raised for n < 0\nimport pytest\nwith pytest.raises(ValueError):\n    f(-1)\nwith pytest.raises(ValueError):\n    f(-2)",
      "execution_count": 2,
      "outputs": []
    },
    {
      "metadata": {
        "deletable": false,
        "editable": false,
        "nbgrader": {
          "cell_type": "markdown",
          "checksum": "e95262d50b5fedef7da21e1741ff513d",
          "grade": false,
          "grade_id": "cell-69c78c0ffc19db36",
          "locked": true,
          "schema_version": 3,
          "solution": false
        }
      },
      "cell_type": "markdown",
      "source": "## Exercise 09.2 (raising exceptions)\n\nModify your program from the bisection exercise in Activity 04 to raise an error if the maximum number of iterations is exceeded. Reduce the maximum allowed iterations to test that an exception is raised.\n\nAdd any other checks on the input data that you think are appropriate."
    },
    {
      "metadata": {
        "deletable": false,
        "nbgrader": {
          "cell_type": "code",
          "checksum": "54a2b2c493794b64ac8c709d3b554426",
          "grade": false,
          "grade_id": "cell-ca2c3ee62ad3b956",
          "locked": false,
          "schema_version": 3,
          "solution": true
        },
        "trusted": true
      },
      "cell_type": "code",
      "source": "def my_f(x):\n    \"Evaluate polynomial function\"\n    return x**3 - 6*x**2 + 4*x + 12\n\ndef compute_root(f, x0, x1, tol, max_it):\n    \"Compute roots of a function using bisection\"\n    #Perform basic error handling\n    #Check if there is a sign change between x0 and x1 to ensure that the root lies between these values\n    if f(x0)*f(x1) > 0: #Check if the result is positive, hence there is no sign change\n        raise ValueError(\"No sign change between x0 and x1, hence the root doesn't lie inbetween these values or there's a TP nearby\")\n    \n    it = 0\n    error = tol + 1. #Set error to be greater than the tolerance\n    \n    while error > tol and it < max_it:\n        #Increment counter\n        it += 1\n        \n        #Get mid val\n        x_mid = (x0 + x1)/2\n        \n        #Compute f(x0) and f(x_mid)\n        f0 = f(x0)\n        f_mid = f(x_mid)\n        \n        #Get the sign\n        sign = f0 * f_mid\n        \n        if sign < 0: #Negative, so move x1 to x_mid\n            x1 = x_mid\n        else:\n            x0 = x_mid\n        \n        #Get error\n        error = abs(f_mid)\n    \n    if it >= max_it: #Raise  error if the iteration has exceeded the limit\n        raise RecursionError(\"Number of iterations has exceeded {}\".format(max_it)) #Is RuntimeError better?\n    \n    return x_mid, f_mid, it",
      "execution_count": 3,
      "outputs": []
    },
    {
      "metadata": {
        "deletable": false,
        "editable": false,
        "nbgrader": {
          "cell_type": "code",
          "checksum": "245f74804add47d7a569230c5677fb0a",
          "grade": true,
          "grade_id": "cell-f6cf91ed5dd1736b",
          "locked": true,
          "points": 0,
          "schema_version": 3,
          "solution": false
        },
        "trusted": true
      },
      "cell_type": "code",
      "source": "# Test with max_it = 30\nx, f, num_it = compute_root(my_f, x0=3, x1=6, tol=1.0e-6, max_it=30)\n\n# Test with max_it = 20\nwith pytest.raises(RuntimeError):\n    x, f, num_it = compute_root(my_f, x0=3, x1=6, tol=1.0e-6, max_it=20)",
      "execution_count": 4,
      "outputs": []
    },
    {
      "metadata": {
        "trusted": true
      },
      "cell_type": "code",
      "source": "with pytest.raises(ValueError):\n    x, f, num_it = compute_root(my_f, x0=5, x1=6, tol=1.0e-6, max_it=20)",
      "execution_count": 5,
      "outputs": []
    }
  ],
  "metadata": {
    "kernelspec": {
      "name": "python3",
      "display_name": "Python 3",
      "language": "python"
    },
    "language_info": {
      "mimetype": "text/x-python",
      "nbconvert_exporter": "python",
      "name": "python",
      "file_extension": ".py",
      "version": "3.5.4",
      "pygments_lexer": "ipython3",
      "codemirror_mode": {
        "version": 3,
        "name": "ipython"
      }
    }
  },
  "nbformat": 4,
  "nbformat_minor": 4
}