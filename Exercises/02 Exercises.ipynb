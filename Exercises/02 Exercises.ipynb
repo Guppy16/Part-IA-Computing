{
  "cells": [
    {
      "metadata": {},
      "cell_type": "markdown",
      "source": "## Exercise 02.1 (if-else)\n\nConsider the following assessment criteria which map a score out of 100 to an \nassessment grade:\n\n| Grade            | Raw score  (/100)      |\n| ---------------- | ---------------------- |\n| Excellent        | $\\ge 82$               |\n| Very good        | $\\ge 76.5$ and $< 82$  |\n| Good             | $\\ge 66$ and $< 76.5$  |\n| Need improvement | $\\ge 45$ and $< 66$    |\n| Did you try?     | $< 45$                 |\n\nWrite a program that, given an a score, prints the appropriate grade. Print an error message if the input score is greater than 100 or less than zero."
    },
    {
      "metadata": {
        "deletable": false,
        "nbgrader": {
          "cell_type": "code",
          "checksum": "a514c1218467051dab6b6e4fa054bc90",
          "grade": false,
          "grade_id": "cell-71121f470be22e4a",
          "locked": false,
          "schema_version": 3,
          "solution": true
        },
        "trusted": true
      },
      "cell_type": "code",
      "source": "score = 90 #ENTER A SCORE (preferably between 0 and 100)\n\nif score < 0:\n    print(\"Error: score can't be less than 0\")\nelif score < 45:\n    print(\"Did you try?\")\nelif score < 66:\n    print ('Need Imporvement')\nelif score < 76.5:\n    print ('Good')\nelif score < 82:\n    print ('Very good')\nelif score <= 100:\n    print ('Excellent')\nelse:\n    print (\"Error: score can't be over 100\")",
      "execution_count": 10,
      "outputs": [
        {
          "output_type": "stream",
          "text": "Excellent\n",
          "name": "stdout"
        }
      ]
    },
    {
      "metadata": {},
      "cell_type": "markdown",
      "source": "## Exercise 02.2 (bisection)\n\nBisection is an iterative method for finding approximate roots of a function. Say we know that the function $f(x)$ has one root between $x_{0}$ and $x_{1}$ ($x_{0} < x_{1}$). We then:\n\n- Evaluate $f$ at the midpoint $x_{\\rm mid} = (x_0 + x_1)/2$, i.e. compute\n   $f_{\\rm mid} = f(x_{\\rm mid})$\n- Evaluate $f(x_0) \\cdot f(x_{\\rm mid})$\n\n  - If $f(x_0) \\cdot f(x_{\\rm mid}) < 0$: \n\n    $f$ must change sign somewhere between $x_0$ and $x_{\\rm mid}$, hence the root must lie between \n    $x_0$ and $x_{\\rm mid}$, so set $x_1 = x_{\\rm mid}$.\n   \n  - Else\n\n    $f$ must change sign somewhere between $x_{\\rm mid}$ and $x_1$, so set\n    $x_0 = x_{\\rm mid}$.\n\nThe above steps can be repeated a specified number of times, or until $|f_{\\rm mid}|$\nis below a tolerance, with $x_{\\rm mid}$ being the approximate root.\n\n\n### Task\n\nThe function\n\n$$\nf(x) = x^3 - 6x^2 + 4x + 12\n$$\n\nhas one root somewhere between $x_0 = 3$ and $x_1 = 6$.\n\n1. Use the bisection method to find an approximate root $x_{r}$ using 15 iterations \n   (use a `for` loop).\n2. Use the bisection method to find an approximate root $x_{r}$ such that \n   $\\left| f(x_{r}) \\right| < 1 \\times 10^{-6}$ and report the number of iterations \n   required (use a `while` loop).\n\nStore the approximate root using the variable `x_mid`, and store $f(x_{\\rm mid})$ using the variable `f`.\n\n*Hint:* Use  `abs` to compute the absolute value of a number, e.g. `y = abs(x)` assigns the absolute value of `x` to `y`. "
    },
    {
      "metadata": {},
      "cell_type": "markdown",
      "source": "#### (1) Using a `for` loop."
    },
    {
      "metadata": {
        "deletable": false,
        "nbgrader": {
          "cell_type": "code",
          "checksum": "ee3cd280d0ab20bacff2198885db439f",
          "grade": false,
          "grade_id": "cell-3a0d0a59613d6b3f",
          "locked": false,
          "schema_version": 3,
          "solution": true
        },
        "trusted": true
      },
      "cell_type": "code",
      "source": "# Initial end points\nx0 = 3.0\nx1 = 6.0\n\n# Use 15 iterations\nfor n in range(15):\n    # Compute midpoint\n    x_mid = (x0 + x1)/2\n\n    # Evaluate function at left end-point and at midpoint\n    f0 = x0**3 - 6*x0**2 + 4*x0 + 12\n    f = x_mid**3 - 6*x_mid**2 + 4*x_mid + 12\n    \n    # Determine whether to change x0 or x1\n    sign = f0 * f\n    if sign < 0: #Sign change between x0 and x_mid, hence move x1 back\n        x1 = x_mid\n    else:\n        x0 = x_mid\n\n    print(n, x_mid, f)",
      "execution_count": 11,
      "outputs": [
        {
          "output_type": "stream",
          "text": "0 4.5 -0.375\n1 5.25 12.328125\n2 4.875 4.763671875\n3 4.6875 1.910888671875\n4 4.59375 0.699554443359375\n5 4.546875 0.14548873901367188\n6 4.5234375 -0.11891412734985352\n7 4.53515625 0.01224285364151001\n8 4.529296875 -0.053596146404743195\n9 4.5322265625 -0.020741849206387997\n10 4.53369140625 -0.0042658079182729125\n11 4.534423828125 0.003984444148954935\n12 4.5340576171875 -0.0001417014154867502\n13 4.53424072265625 0.0019211164656098845\n14 4.534149169921875 0.0008896438020826736\n",
          "name": "stdout"
        }
      ]
    },
    {
      "metadata": {
        "deletable": false,
        "editable": false,
        "nbgrader": {
          "cell_type": "code",
          "checksum": "300a5759e0f5b564a00fa0e9acee6f68",
          "grade": true,
          "grade_id": "cell-421824bbd4e61fae",
          "locked": true,
          "points": 0,
          "schema_version": 3,
          "solution": false
        },
        "trusted": true
      },
      "cell_type": "code",
      "source": "assert round(x_mid - 4.534149169921875, 10) == 0.0\nassert abs(f) < 0.0009",
      "execution_count": 12,
      "outputs": []
    },
    {
      "metadata": {},
      "cell_type": "markdown",
      "source": "#### (2) Using a `while` loop\n\nUse the variable `counter` for the iteration number. \n\n*Remember to guard against infinite loops.*"
    },
    {
      "metadata": {
        "deletable": false,
        "nbgrader": {
          "cell_type": "code",
          "checksum": "cc52d8a36b886950be06af5bfa258206",
          "grade": false,
          "grade_id": "cell-1747a3fb1dd1de48",
          "locked": false,
          "schema_version": 3,
          "solution": true
        },
        "trusted": true
      },
      "cell_type": "code",
      "source": "# Initial end points\nx0 = 3.0\nx1 = 6.0\n\ntol = 1.0e-6\nerror = tol + 1.0 #Initial error is arbitrary, but greater than the tolerance\n\n#Define f(x)\ndef func(x):\n    return x**3 - 6*x**2 + 4*x + 12\n\n# Iterate until tolerance is met\ncounter = 0\nwhile error > tol:\n    #Increment counter\n    counter += 1\n    \n    #Calc midpoint\n    x_mid = (x0 + x1)/2\n    \n    #Compute f(x) at x0 and x_mid\n    f0 = func(x0)\n    f = func(x_mid)\n    \n    # Determine whether to change x0 or x1\n    sign = f0 * f\n    if sign < 0: #Sign change between x0 and x_mid, hence move x1 back\n        x1 = x_mid\n    else:\n        x0 = x_mid\n        \n    #Compute error\n    error = abs(f)\n    \n    # Guard against an infinite loop\n    if counter > 1000:\n        print(\"Oops, iteration count is very large. Breaking out of while loop.\")\n        break\n    \n    print(counter, x_mid, error)",
      "execution_count": 13,
      "outputs": [
        {
          "output_type": "stream",
          "text": "1 4.5 0.375\n2 5.25 12.328125\n3 4.875 4.763671875\n4 4.6875 1.910888671875\n5 4.59375 0.699554443359375\n6 4.546875 0.14548873901367188\n7 4.5234375 0.11891412734985352\n8 4.53515625 0.01224285364151001\n9 4.529296875 0.053596146404743195\n10 4.5322265625 0.020741849206387997\n11 4.53369140625 0.0042658079182729125\n12 4.534423828125 0.003984444148954935\n13 4.5340576171875 0.0001417014154867502\n14 4.53424072265625 0.0019211164656098845\n15 4.534149169921875 0.0008896438020826736\n16 4.5341033935546875 0.0003739552628445608\n17 4.534080505371094 0.0001161229410939768\n18 4.534069061279297 1.2790232830184323e-05\n19 4.534074783325195 5.166610522167048e-05\n20 4.534071922302246 1.9437873959304852e-05\n21 4.5340704917907715 3.3238050036743516e-06\n22 4.534069776535034 4.7332178070291775e-06\n23 4.534070134162903 7.047073751209609e-07\n",
          "name": "stdout"
        }
      ]
    },
    {
      "metadata": {
        "deletable": false,
        "editable": false,
        "nbgrader": {
          "cell_type": "code",
          "checksum": "5604f410d2134838760ac580a9b40f73",
          "grade": true,
          "grade_id": "cell-ddff32f44df88388",
          "locked": true,
          "points": 0,
          "schema_version": 3,
          "solution": false
        },
        "trusted": true
      },
      "cell_type": "code",
      "source": "assert counter == 23\nassert abs(f) < 1.0e-6",
      "execution_count": 14,
      "outputs": []
    },
    {
      "metadata": {},
      "cell_type": "markdown",
      "source": "## Exercise 02.3 (series expansion)\n\nThe power series expansion for the sine function is: \n\n$$\n\\sin(x) = \\sum_{n = 0}^{\\infty} (-1)^n \\frac{x^{2n +1}}{(2n+1)!}\n$$\n\n(See mathematics data book for a less compact version; this compact version is preferred here as it is simpler to program.)\n\n1. Using a `for` statement, approximate $\\sin(3\\pi/2)$ using 15 terms in the series expansion and report the absolute error.\n\n1. Using a `while` statement, compute how many terms in the series are required to approximate $\\sin(3\\pi/2)$ to within $1 \\times 10^{-8}$. \n\nStore the absolute value of the error in the variable `error`.\n\n*Note:* Calculators and computers use iterative or series expansions to compute trigonometric functions, similar to the one above (although they use more efficient formulations than the above series).\n\n### Hints\n\nTo compute the factorial and to get a good approximation of $\\pi$, use the Python `math` module:\n```python\nimport math\nnfact = math.factorial(10)\npi = math.pi\n```\nYou only need '`import math`' once at the top of your program. Standard modules, like `math`, will be explained in a later. If you want to test for angles for which sine is not simple, you can use \n```python\na = 1.3\ns = math.sin(a)\n```    \nto get an accurate computation of sine to check the error."
    },
    {
      "metadata": {},
      "cell_type": "markdown",
      "source": "#### (1) Using a `for` loop\nUse for loop 15 times"
    },
    {
      "metadata": {
        "deletable": false,
        "nbgrader": {
          "cell_type": "code",
          "checksum": "105cfce8eabbd37a7afaee8203d6bd3b",
          "grade": false,
          "grade_id": "cell-d6df4b428f969a5d",
          "locked": false,
          "schema_version": 3,
          "solution": true
        },
        "trusted": true
      },
      "cell_type": "code",
      "source": "# Import the math module to access math.sin and math.factorial\nimport math\n\n# Value at which to approximate sine\nx = 1.5*math.pi\n\n# Initialise approximation of sine\napprox_sin = 0.0\n\n#define summation function\ndef sine_sum(n):\n    return (((-1)**n) * (x**(2*n+1)) / math.factorial(2*n+1))\n\nfor i in range(15):\n    #Add terms to approximation\n    approx_sin += sine_sum(i)\n\nerror = abs(math.sin(x) - approx_sin)\n    \nprint(\"The error is:\")\nprint(error)",
      "execution_count": 15,
      "outputs": [
        {
          "output_type": "stream",
          "text": "The error is:\n8.79296635503124e-14\n",
          "name": "stdout"
        }
      ]
    },
    {
      "metadata": {
        "deletable": false,
        "editable": false,
        "nbgrader": {
          "cell_type": "code",
          "checksum": "e96bb82c27a0c914a648526edbe13d26",
          "grade": true,
          "grade_id": "cell-8b269b717e92414d",
          "locked": true,
          "points": 0,
          "schema_version": 3,
          "solution": false
        },
        "trusted": true
      },
      "cell_type": "code",
      "source": "assert error < 1.0e-12",
      "execution_count": 16,
      "outputs": []
    },
    {
      "metadata": {},
      "cell_type": "markdown",
      "source": "#### (2) Using a `while` loop\n\n*Remember to guard against infinite loops.*"
    },
    {
      "metadata": {
        "deletable": false,
        "nbgrader": {
          "cell_type": "code",
          "checksum": "f7c4320acbc1a64d9d8423de7111714b",
          "grade": false,
          "grade_id": "cell-03df25d83df3674e",
          "locked": false,
          "schema_version": 3,
          "solution": true
        },
        "trusted": true
      },
      "cell_type": "code",
      "source": "# Import the math module to access math.sin and math.factorial\nimport math\n\n# Value at which to approximate sine\nx = 1.5*math.pi\n\n# Tolerance and initial error (this just needs to be larger than tol)\ntol = 1.0e-8\nerror = tol + 1.0\n\n# Intialise approximation of sine\napprox_sin = 0.0\nactual_sin = math.sin(x)\n\n#define summation function\ndef sine_sum(n):\n    return (((-1)**n) * (x**(2*n+1)) / math.factorial(2*n+1))\n\n# Initialise counter\nn = 0\n\n# Loop until error satisfies tolerance, with a check to avoid \n# an infinite loop\nwhile error > tol and n < 1000:\n    \n    #Add terms to approximation\n    approx_sin += sine_sum(n)\n    \n    #Get error\n    error = abs(approx_sin - actual_sin)\n    \n    # Increment counter\n    n += 1    \n    \n    \nprint(\"The error is:\")\nprint(error)\n\nprint(\"Number of terms in series:\")\nprint(n)",
      "execution_count": 17,
      "outputs": [
        {
          "output_type": "stream",
          "text": "The error is:\n4.234491202126378e-09\nNumber of terms in series:\n12\n",
          "name": "stdout"
        }
      ]
    },
    {
      "metadata": {
        "deletable": false,
        "editable": false,
        "nbgrader": {
          "cell_type": "code",
          "checksum": "7e9cf956faf5c223affc2cc9a50d4cf5",
          "grade": true,
          "grade_id": "cell-03df25d83df3674dfwe",
          "locked": true,
          "points": 0,
          "schema_version": 3,
          "solution": false
        },
        "trusted": true
      },
      "cell_type": "code",
      "source": "assert error <= 1.0e-8",
      "execution_count": 18,
      "outputs": []
    },
    {
      "metadata": {
        "trusted": true
      },
      "cell_type": "code",
      "source": "",
      "execution_count": null,
      "outputs": []
    }
  ],
  "metadata": {
    "kernelspec": {
      "name": "python3",
      "display_name": "Python 3",
      "language": "python"
    },
    "language_info": {
      "mimetype": "text/x-python",
      "nbconvert_exporter": "python",
      "name": "python",
      "pygments_lexer": "ipython3",
      "version": "3.5.4",
      "file_extension": ".py",
      "codemirror_mode": {
        "version": 3,
        "name": "ipython"
      }
    }
  },
  "nbformat": 4,
  "nbformat_minor": 4
}